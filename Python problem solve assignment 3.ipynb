{
 "cells": [
  {
   "cell_type": "markdown",
   "id": "4a0e5614",
   "metadata": {},
   "source": [
    "# 1- Take values of the length & breadth of a rectangle from user input and check if it is square or not."
   ]
  },
  {
   "cell_type": "code",
   "execution_count": 60,
   "id": "feb0b42e",
   "metadata": {},
   "outputs": [
    {
     "name": "stdout",
     "output_type": "stream",
     "text": [
      "Admit into length of the rectangle:53\n"
     ]
    }
   ],
   "source": [
    "le = int(input('Admit into length of the rectangle:'))"
   ]
  },
  {
   "cell_type": "code",
   "execution_count": 62,
   "id": "f30c742f",
   "metadata": {},
   "outputs": [
    {
     "name": "stdout",
     "output_type": "stream",
     "text": [
      "Admit into breadth of the rectengle:53\n"
     ]
    }
   ],
   "source": [
    " brh = int(input(\"Admit into breadth of the rectengle:\"))"
   ]
  },
  {
   "cell_type": "code",
   "execution_count": 63,
   "id": "e9143cc3",
   "metadata": {},
   "outputs": [
    {
     "name": "stdout",
     "output_type": "stream",
     "text": [
      "This is square\n"
     ]
    }
   ],
   "source": [
    "if le == brh:\n",
    "    print('This is square')\n",
    "else:\n",
    "    print('This is not square')"
   ]
  },
  {
   "cell_type": "markdown",
   "id": "8caab3b3",
   "metadata": {},
   "source": [
    "# 2-Take three integer values from the user and print the greatest among them."
   ]
  },
  {
   "cell_type": "code",
   "execution_count": 64,
   "id": "2562c2f4",
   "metadata": {},
   "outputs": [
    {
     "name": "stdout",
     "output_type": "stream",
     "text": [
      "Enter your salary: 50000\n"
     ]
    }
   ],
   "source": [
    "a = int(input(\"Enter your salary: \"))"
   ]
  },
  {
   "cell_type": "code",
   "execution_count": 65,
   "id": "24cccbdd",
   "metadata": {},
   "outputs": [
    {
     "name": "stdout",
     "output_type": "stream",
     "text": [
      "Enter your salary: 540000\n"
     ]
    }
   ],
   "source": [
    "b = int(input('Enter your salary: '))"
   ]
  },
  {
   "cell_type": "code",
   "execution_count": 66,
   "id": "177b884e",
   "metadata": {},
   "outputs": [
    {
     "name": "stdout",
     "output_type": "stream",
     "text": [
      "Enter your salary: 50000\n"
     ]
    }
   ],
   "source": [
    "c = int(input(\"Enter your salary: \"))"
   ]
  },
  {
   "cell_type": "code",
   "execution_count": 67,
   "id": "7d08373b",
   "metadata": {},
   "outputs": [
    {
     "name": "stdout",
     "output_type": "stream",
     "text": [
      "B is Big salary:  540000\n"
     ]
    }
   ],
   "source": [
    "if (a >=b) & (a >= c):\n",
    "    print('A is Big salary: ',a)    \n",
    "elif (b >= c):\n",
    "    print('B is Big salary: ',b)\n",
    "else:\n",
    "    print('C is Big salary: ',c) "
   ]
  },
  {
   "cell_type": "markdown",
   "id": "de5bdf43",
   "metadata": {},
   "source": [
    "# 3- A student will not be allowed to sit in an exam if his/her attendance is less than 75%"
   ]
  },
  {
   "cell_type": "code",
   "execution_count": 68,
   "id": "a23f98f2",
   "metadata": {},
   "outputs": [
    {
     "name": "stdout",
     "output_type": "stream",
     "text": [
      "How many classes held :30\n"
     ]
    }
   ],
   "source": [
    "classHold = int(input('How many classes held :'))"
   ]
  },
  {
   "cell_type": "code",
   "execution_count": 69,
   "id": "afa27fd2",
   "metadata": {},
   "outputs": [
    {
     "name": "stdout",
     "output_type": "stream",
     "text": [
      "How many classes Attend by student:30\n"
     ]
    }
   ],
   "source": [
    "classAttend = int(input(\"How many classes Attend by student:\"))"
   ]
  },
  {
   "cell_type": "code",
   "execution_count": 70,
   "id": "1c034525",
   "metadata": {},
   "outputs": [],
   "source": [
    "per = classHold / classAttend * 100"
   ]
  },
  {
   "cell_type": "code",
   "execution_count": 71,
   "id": "89e2dd0a",
   "metadata": {},
   "outputs": [
    {
     "name": "stdout",
     "output_type": "stream",
     "text": [
      "Total percentage of this student is 100.0 %\n"
     ]
    }
   ],
   "source": [
    "print('Total percentage of this student is', per,\"%\")"
   ]
  },
  {
   "cell_type": "code",
   "execution_count": 72,
   "id": "974008e4",
   "metadata": {},
   "outputs": [
    {
     "name": "stdout",
     "output_type": "stream",
     "text": [
      "This student can be sit in exam\n"
     ]
    }
   ],
   "source": [
    "if per <75:\n",
    "    print('This student cannot be sit in exam')\n",
    "else:\n",
    "    print('This student can be sit in exam')"
   ]
  },
  {
   "cell_type": "markdown",
   "id": "5c4e385c",
   "metadata": {},
   "source": [
    "# 4- A school has the following rules for the grading system:"
   ]
  },
  {
   "cell_type": "code",
   "execution_count": 6,
   "id": "432bea10",
   "metadata": {},
   "outputs": [
    {
     "name": "stdout",
     "output_type": "stream",
     "text": [
      "Enter the maximum mark of a subject: 88\n"
     ]
    }
   ],
   "source": [
    "total=int(input(\"Enter the maximum mark of a subject: \"))"
   ]
  },
  {
   "cell_type": "code",
   "execution_count": 7,
   "id": "05e76e6a",
   "metadata": {},
   "outputs": [
    {
     "name": "stdout",
     "output_type": "stream",
     "text": [
      "Enter marks of the first subject: 66\n"
     ]
    }
   ],
   "source": [
    "sub1=int(input(\"Enter marks of the first subject: \"))"
   ]
  },
  {
   "cell_type": "code",
   "execution_count": 8,
   "id": "05073f39",
   "metadata": {},
   "outputs": [
    {
     "name": "stdout",
     "output_type": "stream",
     "text": [
      "Enter marks of the second subject: 77\n"
     ]
    }
   ],
   "source": [
    "sub2=int(input(\"Enter marks of the second subject: \"))"
   ]
  },
  {
   "cell_type": "code",
   "execution_count": 9,
   "id": "acacdde5",
   "metadata": {},
   "outputs": [
    {
     "name": "stdout",
     "output_type": "stream",
     "text": [
      "Enter marks of the third subject: 88\n"
     ]
    }
   ],
   "source": [
    "sub3=int(input(\"Enter marks of the third subject: \"))"
   ]
  },
  {
   "cell_type": "code",
   "execution_count": 10,
   "id": "f79fe19a",
   "metadata": {},
   "outputs": [
    {
     "name": "stdout",
     "output_type": "stream",
     "text": [
      "Enter marks of the fourth subject: 87\n"
     ]
    }
   ],
   "source": [
    "sub4=int(input(\"Enter marks of the fourth subject: \"))"
   ]
  },
  {
   "cell_type": "code",
   "execution_count": 11,
   "id": "870ad305",
   "metadata": {},
   "outputs": [
    {
     "name": "stdout",
     "output_type": "stream",
     "text": [
      "Enter marks of the fifth subject: 84\n"
     ]
    }
   ],
   "source": [
    "sub5=int(input(\"Enter marks of the fifth subject: \"))"
   ]
  },
  {
   "cell_type": "code",
   "execution_count": 12,
   "id": "ca49a2f3",
   "metadata": {},
   "outputs": [
    {
     "name": "stdout",
     "output_type": "stream",
     "text": [
      "Average is  80.4\n",
      "According to the percentage, \n",
      "Grade: A+\n"
     ]
    }
   ],
   "source": [
    "average=(sub1+sub2+sub3+sub4+sub5)/5 \n",
    "print(\"Average is \",average)\n",
    "percentage=(average/total)*100\n",
    "print(\"According to the percentage, \")\n",
    "if percentage >= 90:\n",
    "    print(\"Grade: A+\")\n",
    "elif percentage >= 80 and percentage < 89:\n",
    "    print(\"Grade: A\")  \n",
    "elif percentage >= 70 and percentage < 79:\n",
    "    print(\"Grade: A-\")\n",
    "    \n",
    "elif percentage >= 60 and percentage < 69:\n",
    "    print(\"Grade: B\")\n",
    "    \n",
    "elif percentage >= 50 and percentage < 59:\n",
    "    print(\"Grade: C\")\n",
    "    \n",
    "elif percentage >= 45 and percentage < 49:\n",
    "    print(\"Grade: D\")\n",
    "    \n",
    "elif percentage >= 24 and percentage < 44:\n",
    "    print(\"Grade: E\")\n",
    "else:\n",
    "    print(\"Grade: F\")"
   ]
  },
  {
   "cell_type": "markdown",
   "id": "6c3217c6",
   "metadata": {},
   "source": [
    "# 5- Print the following pattern using for and while loop."
   ]
  },
  {
   "cell_type": "code",
   "execution_count": 14,
   "id": "526de234",
   "metadata": {},
   "outputs": [
    {
     "ename": "IndentationError",
     "evalue": "unindent does not match any outer indentation level (<tokenize>, line 3)",
     "output_type": "error",
     "traceback": [
      "\u001b[1;36m  File \u001b[1;32m\"<tokenize>\"\u001b[1;36m, line \u001b[1;32m3\u001b[0m\n\u001b[1;33m    print()\u001b[0m\n\u001b[1;37m    ^\u001b[0m\n\u001b[1;31mIndentationError\u001b[0m\u001b[1;31m:\u001b[0m unindent does not match any outer indentation level\n"
     ]
    }
   ],
   "source": [
    "for qtv in range(8,4,-1):\n",
    "        print(k, end =\" \")\n",
    "    print()    "
   ]
  },
  {
   "cell_type": "code",
   "execution_count": 15,
   "id": "7f72a0a3",
   "metadata": {},
   "outputs": [
    {
     "name": "stdout",
     "output_type": "stream",
     "text": [
      "1 2 3 4 5 6 7 8 9 10 11 \n",
      "1 2 3 4 5 6 7 8 9 10 \n",
      "1 2 3 4 5 6 7 8 9 \n",
      "1 2 3 4 5 6 7 8 \n",
      "1 2 3 4 5 6 7 \n"
     ]
    }
   ],
   "source": [
    "for i in range(12,7,-1):\n",
    "    for j in range(1,i):\n",
    "        print(j, end=\" \")\n",
    "    print()   "
   ]
  },
  {
   "cell_type": "code",
   "execution_count": 16,
   "id": "83f3dac8",
   "metadata": {},
   "outputs": [
    {
     "name": "stdout",
     "output_type": "stream",
     "text": [
      "1 2 3 4 5 6 7 \n",
      "1 2 3 4 5 6 \n",
      "1 2 3 4 5 \n",
      "1 2 3 4 \n"
     ]
    }
   ],
   "source": [
    "i = 8 \n",
    "while i > 4:\n",
    "    j = 1\n",
    "    while j < i:\n",
    "        print(j, end=\" \")\n",
    "        j += 1\n",
    "    print()\n",
    "    i -= 1"
   ]
  },
  {
   "cell_type": "markdown",
   "id": "edd65367",
   "metadata": {},
   "source": [
    "while k >7:\n",
    "    j = 1\n",
    "    while j< k:\n",
    "        print(j,end=\" \")\n",
    "        j += 1\n",
    "    print()    \n",
    "    k -= 1"
   ]
  },
  {
   "cell_type": "markdown",
   "id": "1191ffea",
   "metadata": {},
   "source": [
    "# 6- Display numbers from -100 to -10 using for loop.¶"
   ]
  },
  {
   "cell_type": "code",
   "execution_count": 17,
   "id": "234fac97",
   "metadata": {},
   "outputs": [
    {
     "name": "stdout",
     "output_type": "stream",
     "text": [
      "-100-99-98-97-96-95-94-93-92-91-90-89-88-87-86-85-84-83-82-81-80-79-78-77-76-75-74-73-72-71-70-69-68-67-66-65-64-63-62-61-60-59-58-57-56-55-54-53-52-51-50-49-48-47-46-45-44-43-42-41-40-39-38-37-36-35-34-33-32-31-30-29-28-27-26-25-24-23-22-21-20-19-18-17-16-15-14-13-12-11"
     ]
    }
   ],
   "source": [
    "for i in range(-100,-10):\n",
    "    print(i,end = \"\")"
   ]
  },
  {
   "cell_type": "markdown",
   "id": "4117d9d4",
   "metadata": {},
   "source": [
    "# 7- Write a program to sum all prime numbers within a range of 10 to 1000."
   ]
  },
  {
   "cell_type": "code",
   "execution_count": 18,
   "id": "4c34eb2d",
   "metadata": {},
   "outputs": [],
   "source": [
    "def is_prime(num):\n",
    "    if num == 1:\n",
    "        return False\n",
    "    for i in range(2, int(num ** 0.5) + 1):\n",
    "        if num % i == 0:\n",
    "            return False\n",
    "    return True  "
   ]
  },
  {
   "cell_type": "code",
   "execution_count": 19,
   "id": "2a5a6aa0",
   "metadata": {},
   "outputs": [],
   "source": [
    "def sum_of_primes_in_range(start, end):\n",
    "    prime_sum = 0\n",
    "    for num in range(start, end +1):\n",
    "        if is_prime(num):\n",
    "            prime_sum += num\n",
    "    return prime_sum"
   ]
  },
  {
   "cell_type": "code",
   "execution_count": 20,
   "id": "d3e94861",
   "metadata": {},
   "outputs": [
    {
     "name": "stdout",
     "output_type": "stream",
     "text": [
      "76110\n"
     ]
    }
   ],
   "source": [
    "print(sum_of_primes_in_range(10, 1000))"
   ]
  },
  {
   "cell_type": "markdown",
   "id": "aa408585",
   "metadata": {},
   "source": [
    "# 8- Find the factorial of an n! (Hint, n=7: 7*6*5*4*3*2*1)."
   ]
  },
  {
   "cell_type": "code",
   "execution_count": 21,
   "id": "fc74fad0",
   "metadata": {},
   "outputs": [
    {
     "name": "stdout",
     "output_type": "stream",
     "text": [
      "5040\n"
     ]
    }
   ],
   "source": [
    "n = 7\n",
    "factorial = 1\n",
    "\n",
    "for i in range(1, n+1):\n",
    "    factorial *= i\n",
    "\n",
    "print(factorial)"
   ]
  },
  {
   "cell_type": "markdown",
   "id": "8e26aea2",
   "metadata": {},
   "source": [
    "# 9- Reverse a given integer number 27956240710."
   ]
  },
  {
   "cell_type": "code",
   "execution_count": 22,
   "id": "e35ba72c",
   "metadata": {},
   "outputs": [
    {
     "name": "stdout",
     "output_type": "stream",
     "text": [
      "1704265972\n"
     ]
    }
   ],
   "source": [
    "def reverse_integer(num):\n",
    "    reversed_num = 0\n",
    "    while num != 0:\n",
    "        last_digit = num % 10\n",
    "        num = num // 10\n",
    "        reversed_num = reversed_num * 10 + last_digit\n",
    "    return reversed_num\n",
    "\n",
    "num = 27956240710\n",
    "print(reverse_integer(num))"
   ]
  },
  {
   "cell_type": "markdown",
   "id": "3fa881e5",
   "metadata": {},
   "source": [
    "# 10- Print the following pattern using for and while loop."
   ]
  },
  {
   "cell_type": "code",
   "execution_count": 23,
   "id": "7538ee04",
   "metadata": {},
   "outputs": [
    {
     "name": "stdout",
     "output_type": "stream",
     "text": [
      "# # # \n",
      "# # # # \n",
      "# # # \n",
      "# # \n"
     ]
    }
   ],
   "source": [
    "for i in range (4):\n",
    "    if i < 2:\n",
    "        for j in range(3 + i):\n",
    "            print(\"#\", end=\" \")\n",
    "    else:\n",
    "        for j in range(5 - i):\n",
    "            print(\"#\", end=\" \")\n",
    "    print(\"\")"
   ]
  },
  {
   "cell_type": "code",
   "execution_count": null,
   "id": "364b0143",
   "metadata": {},
   "outputs": [],
   "source": []
  },
  {
   "cell_type": "markdown",
   "id": "73f16b14",
   "metadata": {},
   "source": [
    "# 11- Display the Fibonacci series of 15 elements using the for and while loop."
   ]
  },
  {
   "cell_type": "code",
   "execution_count": 24,
   "id": "71d95e62",
   "metadata": {},
   "outputs": [
    {
     "name": "stdout",
     "output_type": "stream",
     "text": [
      "0 1 1 2 3 5 8 13 21 34 55 89 144 233 377 \n"
     ]
    }
   ],
   "source": [
    "def fibonacci_series_for(n):\n",
    "    a, b = 0, 1\n",
    "    for i in range(n):\n",
    "        print(a, end=\" \")\n",
    "        a, b = b, a + b\n",
    "    print()\n",
    "\n",
    "fibonacci_series_for(15)"
   ]
  },
  {
   "cell_type": "markdown",
   "id": "e39b33c5",
   "metadata": {},
   "source": [
    "# 12- Remove 2 and add 3 to the list and replace True with False."
   ]
  },
  {
   "cell_type": "code",
   "execution_count": 25,
   "id": "b2a0f23f",
   "metadata": {},
   "outputs": [],
   "source": [
    "Li = [1,3,5, [2,3], True]"
   ]
  },
  {
   "cell_type": "code",
   "execution_count": 26,
   "id": "2e292d45",
   "metadata": {},
   "outputs": [],
   "source": [
    "Li[3] = [3,3]"
   ]
  },
  {
   "cell_type": "code",
   "execution_count": 27,
   "id": "ee87b612",
   "metadata": {},
   "outputs": [],
   "source": [
    "Li[-1] = False"
   ]
  },
  {
   "cell_type": "code",
   "execution_count": 28,
   "id": "86d1c393",
   "metadata": {},
   "outputs": [
    {
     "data": {
      "text/plain": [
       "[1, 3, 5, [3, 3], False]"
      ]
     },
     "execution_count": 28,
     "metadata": {},
     "output_type": "execute_result"
    }
   ],
   "source": [
    "Li"
   ]
  },
  {
   "cell_type": "markdown",
   "id": "cee55a8a",
   "metadata": {},
   "source": [
    "# 13- Find the intersection (common) of two sets."
   ]
  },
  {
   "cell_type": "code",
   "execution_count": 29,
   "id": "12e3df6b",
   "metadata": {},
   "outputs": [],
   "source": [
    "S1 = {1,4,6,8}"
   ]
  },
  {
   "cell_type": "code",
   "execution_count": 30,
   "id": "63c346a8",
   "metadata": {},
   "outputs": [],
   "source": [
    "S2 = {True, 1,2,10}"
   ]
  },
  {
   "cell_type": "code",
   "execution_count": 31,
   "id": "855e2c56",
   "metadata": {},
   "outputs": [],
   "source": [
    "S3 = S1.intersection(S2)"
   ]
  },
  {
   "cell_type": "code",
   "execution_count": 32,
   "id": "f2526fe7",
   "metadata": {},
   "outputs": [
    {
     "data": {
      "text/plain": [
       "{True}"
      ]
     },
     "execution_count": 32,
     "metadata": {},
     "output_type": "execute_result"
    }
   ],
   "source": [
    "S3"
   ]
  },
  {
   "cell_type": "code",
   "execution_count": 33,
   "id": "946b75bb",
   "metadata": {},
   "outputs": [],
   "source": [
    "S4 = S2.intersection(S1)"
   ]
  },
  {
   "cell_type": "code",
   "execution_count": 34,
   "id": "4f82f9f7",
   "metadata": {},
   "outputs": [
    {
     "data": {
      "text/plain": [
       "{True}"
      ]
     },
     "execution_count": 34,
     "metadata": {},
     "output_type": "execute_result"
    }
   ],
   "source": [
    "S4"
   ]
  },
  {
   "cell_type": "markdown",
   "id": "0d1ed0c3",
   "metadata": {},
   "source": [
    "# 14- Input a list from the user then Remove duplicates from a list and create a set and find the max"
   ]
  },
  {
   "cell_type": "code",
   "execution_count": 35,
   "id": "12e0f780",
   "metadata": {},
   "outputs": [],
   "source": [
    "User_input = [1,9,3,4,5,200,54]"
   ]
  },
  {
   "cell_type": "code",
   "execution_count": 36,
   "id": "78073f89",
   "metadata": {},
   "outputs": [
    {
     "name": "stdout",
     "output_type": "stream",
     "text": [
      "Enter a list of numbers, separated by spaces: \n"
     ]
    }
   ],
   "source": [
    "user_input = input(\"Enter a list of numbers, separated by spaces: \")"
   ]
  },
  {
   "cell_type": "code",
   "execution_count": 37,
   "id": "9009ffa6",
   "metadata": {},
   "outputs": [],
   "source": [
    "user_list = list(map(int, user_input.split()))\n"
   ]
  },
  {
   "cell_type": "code",
   "execution_count": 38,
   "id": "b17cd731",
   "metadata": {},
   "outputs": [],
   "source": [
    "unique_set = set()"
   ]
  },
  {
   "cell_type": "code",
   "execution_count": 39,
   "id": "3e956f06",
   "metadata": {},
   "outputs": [],
   "source": [
    "max_num = float(\"-inf\")"
   ]
  },
  {
   "cell_type": "code",
   "execution_count": 40,
   "id": "2f2c4101",
   "metadata": {},
   "outputs": [],
   "source": [
    "for num in user_list:\n",
    "    if num not in unique_set:\n",
    "        unique_set.add(num)\n",
    "        if num > max_num:\n",
    "            max_num = num\n"
   ]
  },
  {
   "cell_type": "code",
   "execution_count": 41,
   "id": "c7c8533b",
   "metadata": {},
   "outputs": [
    {
     "name": "stdout",
     "output_type": "stream",
     "text": [
      "Original list:  []\n",
      "Set with duplicates removed:  set()\n",
      "Maximum number in the set:  -inf\n"
     ]
    }
   ],
   "source": [
    "print(\"Original list: \", user_list)\n",
    "print(\"Set with duplicates removed: \", unique_set)\n",
    "print(\"Maximum number in the set: \", max_num)"
   ]
  },
  {
   "cell_type": "markdown",
   "id": "a52ec28c",
   "metadata": {},
   "source": [
    "# 15- Rename the key of a dictionary."
   ]
  },
  {
   "cell_type": "code",
   "execution_count": 42,
   "id": "cc1407c2",
   "metadata": {},
   "outputs": [],
   "source": [
    "dic = { \"name\": \"Shakil\", \"age\":27, \"city\": \"Berlin\", \"country\": \"Germany\" } "
   ]
  },
  {
   "cell_type": "code",
   "execution_count": 43,
   "id": "0c5ffecb",
   "metadata": {},
   "outputs": [],
   "source": [
    "dic ={\n",
    "    \"name\": \"Shakil\",\n",
    "    \"age\": 27, \n",
    "    \"city\": \"Berlin\",\n",
    "    \"country\": \"Germany\"\n",
    "     }"
   ]
  },
  {
   "cell_type": "code",
   "execution_count": 44,
   "id": "687745c9",
   "metadata": {},
   "outputs": [],
   "source": [
    "dic['Work'] = \"Data Science\""
   ]
  },
  {
   "cell_type": "code",
   "execution_count": 45,
   "id": "7e90600f",
   "metadata": {},
   "outputs": [
    {
     "name": "stdout",
     "output_type": "stream",
     "text": [
      "{'name': 'Shakil', 'age': 27, 'city': 'Berlin', 'country': 'Germany', 'Work': 'Data Science'}\n"
     ]
    }
   ],
   "source": [
    "print(dic)"
   ]
  },
  {
   "cell_type": "markdown",
   "id": "50a95ad0",
   "metadata": {},
   "source": [
    "# 16- Creating a data frame using the list."
   ]
  },
  {
   "cell_type": "code",
   "execution_count": 46,
   "id": "8276a1d2",
   "metadata": {},
   "outputs": [],
   "source": [
    "import pandas as pd"
   ]
  },
  {
   "cell_type": "code",
   "execution_count": 47,
   "id": "f400c1a3",
   "metadata": {},
   "outputs": [],
   "source": [
    "num = [10,100,300]"
   ]
  },
  {
   "cell_type": "markdown",
   "id": "c493edb3",
   "metadata": {},
   "source": []
  },
  {
   "cell_type": "code",
   "execution_count": 48,
   "id": "40792a1e",
   "metadata": {},
   "outputs": [
    {
     "data": {
      "text/html": [
       "<div>\n",
       "<style scoped>\n",
       "    .dataframe tbody tr th:only-of-type {\n",
       "        vertical-align: middle;\n",
       "    }\n",
       "\n",
       "    .dataframe tbody tr th {\n",
       "        vertical-align: top;\n",
       "    }\n",
       "\n",
       "    .dataframe thead th {\n",
       "        text-align: right;\n",
       "    }\n",
       "</style>\n",
       "<table border=\"1\" class=\"dataframe\">\n",
       "  <thead>\n",
       "    <tr style=\"text-align: right;\">\n",
       "      <th></th>\n",
       "      <th>Number</th>\n",
       "    </tr>\n",
       "  </thead>\n",
       "  <tbody>\n",
       "    <tr>\n",
       "      <th>0</th>\n",
       "      <td>10</td>\n",
       "    </tr>\n",
       "    <tr>\n",
       "      <th>1</th>\n",
       "      <td>100</td>\n",
       "    </tr>\n",
       "    <tr>\n",
       "      <th>2</th>\n",
       "      <td>300</td>\n",
       "    </tr>\n",
       "  </tbody>\n",
       "</table>\n",
       "</div>"
      ],
      "text/plain": [
       "   Number\n",
       "0      10\n",
       "1     100\n",
       "2     300"
      ]
     },
     "execution_count": 48,
     "metadata": {},
     "output_type": "execute_result"
    }
   ],
   "source": [
    "df1 = pd.DataFrame(num,columns=['Number'])\n",
    "df1"
   ]
  },
  {
   "cell_type": "markdown",
   "id": "0c6dfa98",
   "metadata": {},
   "source": [
    "# 17- Change the value of a key in a given dictionary."
   ]
  },
  {
   "cell_type": "code",
   "execution_count": 51,
   "id": "df33d455",
   "metadata": {},
   "outputs": [],
   "source": [
    "Dict = { \"name\": \"Shakil\", \"age\":27, \"city\":'Berlin', \"country\": \"Germany\" }"
   ]
  },
  {
   "cell_type": "code",
   "execution_count": 52,
   "id": "4bcaf635",
   "metadata": {},
   "outputs": [],
   "source": [
    "Dict[\"country\"] = 'Bangladesh'"
   ]
  },
  {
   "cell_type": "code",
   "execution_count": 53,
   "id": "0f07f40c",
   "metadata": {},
   "outputs": [
    {
     "data": {
      "text/plain": [
       "{'name': 'Shakil', 'age': 27, 'city': 'Berlin', 'country': 'Bangladesh'}"
      ]
     },
     "execution_count": 53,
     "metadata": {},
     "output_type": "execute_result"
    }
   ],
   "source": [
    "Dict"
   ]
  },
  {
   "cell_type": "code",
   "execution_count": null,
   "id": "ced513e7",
   "metadata": {},
   "outputs": [],
   "source": []
  }
 ],
 "metadata": {
  "kernelspec": {
   "display_name": "Python 3 (ipykernel)",
   "language": "python",
   "name": "python3"
  },
  "language_info": {
   "codemirror_mode": {
    "name": "ipython",
    "version": 3
   },
   "file_extension": ".py",
   "mimetype": "text/x-python",
   "name": "python",
   "nbconvert_exporter": "python",
   "pygments_lexer": "ipython3",
   "version": "3.9.13"
  }
 },
 "nbformat": 4,
 "nbformat_minor": 5
}
